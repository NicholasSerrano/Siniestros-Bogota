{
 "cells": [
  {
   "cell_type": "markdown",
   "metadata": {},
   "source": [
    "# cartera de clientes seguros"
   ]
  },
  {
   "cell_type": "markdown",
   "metadata": {},
   "source": [
    "1. limpieza de datos \n",
    "2. union  de bases\n",
    "3. imprimir data"
   ]
  },
  {
   "cell_type": "code",
   "execution_count": 2,
   "metadata": {},
   "outputs": [],
   "source": [
    "import pandas as pd\n",
    "import numpy as np\n",
    "import matplotlib.pyplot as plt\n",
    "import seaborn as sns"
   ]
  },
  {
   "cell_type": "code",
   "execution_count": 2,
   "metadata": {},
   "outputs": [
    {
     "name": "stdout",
     "output_type": "stream",
     "text": [
      "   Id. Asegurado             Nombre Asegurado     celular  \\\n",
      "0        2991022      ROMERO AGUDELO HUMBERTO  3132265889   \n",
      "1       79455416         SUAREZ RINCON HERMES  3132302380   \n",
      "2       74370657  PACHON ARIZA  FABIO ALBERTO  3132328940   \n",
      "3       52249099  ORTIZ CASTAÑO ZULMA LILIANA  3132332229   \n",
      "4       19323186     DIAZ  JIMENEZ  FRANCISCO  3132333095   \n",
      "\n",
      "             Dirección  Teléfono       Ciudad Departamento  Tar.  \\\n",
      "0      AV 15 N0 119 99   2131477  BOGOTA D.C.       BOGOTA    23   \n",
      "1  CALLE 46 S N 20  09   2791523  BOGOTA D.C.       BOGOTA    71   \n",
      "2   CALLE 25 C N 34 22   2440895  BOGOTA D.C.       BOGOTA    52   \n",
      "3   CALLE 68 NO 80G 17   5704989  BOGOTA D.C.       BOGOTA    32   \n",
      "4     CLL 164 N 36 14    6726672  BOGOTA D.C.       BOGOTA    31   \n",
      "\n",
      "                Tarifa       Marca  ... Unnamed: 16374  Unnamed: 16375  \\\n",
      "0  CAMPEROS/CAMIONETAS  JEEP WILLY  ...            NaN             NaN   \n",
      "1    AUTOS DE NEGOCIOS     HYUNDAI  ...            NaN             NaN   \n",
      "2     AUTOS FAMILIARES     RENAULT  ...            NaN             NaN   \n",
      "3        CARGA O MIXTO   CHEVROLET  ...            NaN             NaN   \n",
      "4        CARGA O MIXTO      NISSAN  ...            NaN             NaN   \n",
      "\n",
      "  Unnamed: 16376  Unnamed: 16377  Unnamed: 16378 Unnamed: 16379  \\\n",
      "0            NaN             NaN             NaN            NaN   \n",
      "1            NaN             NaN             NaN            NaN   \n",
      "2            NaN             NaN             NaN            NaN   \n",
      "3            NaN             NaN             NaN            NaN   \n",
      "4            NaN             NaN             NaN            NaN   \n",
      "\n",
      "   Unnamed: 16380  Unnamed: 16381  Unnamed: 16382 Unnamed: 16383  \n",
      "0             NaN             NaN             NaN            NaT  \n",
      "1             NaN             NaN             NaN            NaT  \n",
      "2             NaN             NaN             NaN            NaT  \n",
      "3             NaN             NaN             NaN            NaT  \n",
      "4             NaN             NaN             NaN            NaT  \n",
      "\n",
      "[5 rows x 16384 columns]\n"
     ]
    }
   ],
   "source": [
    "import pandas as pd\n",
    "\n",
    "# Especifica la ruta del archivo Excel\n",
    "ruta_archivo = r\"C:\\Users\\kervi\\OneDrive\\Escritorio\\DATA\\MODULO 3\\Proyecto Modulo 3\\BASE PARA JULIO YOTSEIDY.xlsx\"\n",
    "\n",
    "# Lee el archivo Excel en un DataFrame de Pandas\n",
    "df = pd.read_excel(ruta_archivo)\n",
    "\n",
    "# Ahora puedes trabajar con el DataFrame df como desees\n",
    "print(df.head())  # Muestra las primeras filas del DataFrame\n"
   ]
  },
  {
   "cell_type": "code",
   "execution_count": 3,
   "metadata": {},
   "outputs": [
    {
     "data": {
      "text/html": [
       "<div>\n",
       "<style scoped>\n",
       "    .dataframe tbody tr th:only-of-type {\n",
       "        vertical-align: middle;\n",
       "    }\n",
       "\n",
       "    .dataframe tbody tr th {\n",
       "        vertical-align: top;\n",
       "    }\n",
       "\n",
       "    .dataframe thead th {\n",
       "        text-align: right;\n",
       "    }\n",
       "</style>\n",
       "<table border=\"1\" class=\"dataframe\">\n",
       "  <thead>\n",
       "    <tr style=\"text-align: right;\">\n",
       "      <th></th>\n",
       "      <th>Id. Asegurado</th>\n",
       "      <th>Nombre Asegurado</th>\n",
       "      <th>celular</th>\n",
       "      <th>Dirección</th>\n",
       "      <th>Teléfono</th>\n",
       "      <th>Ciudad</th>\n",
       "      <th>Departamento</th>\n",
       "      <th>Tar.</th>\n",
       "      <th>Tarifa</th>\n",
       "      <th>Marca</th>\n",
       "      <th>...</th>\n",
       "      <th>Unnamed: 16374</th>\n",
       "      <th>Unnamed: 16375</th>\n",
       "      <th>Unnamed: 16376</th>\n",
       "      <th>Unnamed: 16377</th>\n",
       "      <th>Unnamed: 16378</th>\n",
       "      <th>Unnamed: 16379</th>\n",
       "      <th>Unnamed: 16380</th>\n",
       "      <th>Unnamed: 16381</th>\n",
       "      <th>Unnamed: 16382</th>\n",
       "      <th>Unnamed: 16383</th>\n",
       "    </tr>\n",
       "  </thead>\n",
       "  <tbody>\n",
       "    <tr>\n",
       "      <th>0</th>\n",
       "      <td>2991022</td>\n",
       "      <td>ROMERO AGUDELO HUMBERTO</td>\n",
       "      <td>3132265889</td>\n",
       "      <td>AV 15 N0 119 99</td>\n",
       "      <td>2131477</td>\n",
       "      <td>BOGOTA D.C.</td>\n",
       "      <td>BOGOTA</td>\n",
       "      <td>23</td>\n",
       "      <td>CAMPEROS/CAMIONETAS</td>\n",
       "      <td>JEEP WILLY</td>\n",
       "      <td>...</td>\n",
       "      <td>NaN</td>\n",
       "      <td>NaN</td>\n",
       "      <td>NaN</td>\n",
       "      <td>NaN</td>\n",
       "      <td>NaN</td>\n",
       "      <td>NaN</td>\n",
       "      <td>NaN</td>\n",
       "      <td>NaN</td>\n",
       "      <td>NaN</td>\n",
       "      <td>NaT</td>\n",
       "    </tr>\n",
       "    <tr>\n",
       "      <th>1</th>\n",
       "      <td>79455416</td>\n",
       "      <td>SUAREZ RINCON HERMES</td>\n",
       "      <td>3132302380</td>\n",
       "      <td>CALLE 46 S N 20  09</td>\n",
       "      <td>2791523</td>\n",
       "      <td>BOGOTA D.C.</td>\n",
       "      <td>BOGOTA</td>\n",
       "      <td>71</td>\n",
       "      <td>AUTOS DE NEGOCIOS</td>\n",
       "      <td>HYUNDAI</td>\n",
       "      <td>...</td>\n",
       "      <td>NaN</td>\n",
       "      <td>NaN</td>\n",
       "      <td>NaN</td>\n",
       "      <td>NaN</td>\n",
       "      <td>NaN</td>\n",
       "      <td>NaN</td>\n",
       "      <td>NaN</td>\n",
       "      <td>NaN</td>\n",
       "      <td>NaN</td>\n",
       "      <td>NaT</td>\n",
       "    </tr>\n",
       "    <tr>\n",
       "      <th>2</th>\n",
       "      <td>74370657</td>\n",
       "      <td>PACHON ARIZA  FABIO ALBERTO</td>\n",
       "      <td>3132328940</td>\n",
       "      <td>CALLE 25 C N 34 22</td>\n",
       "      <td>2440895</td>\n",
       "      <td>BOGOTA D.C.</td>\n",
       "      <td>BOGOTA</td>\n",
       "      <td>52</td>\n",
       "      <td>AUTOS FAMILIARES</td>\n",
       "      <td>RENAULT</td>\n",
       "      <td>...</td>\n",
       "      <td>NaN</td>\n",
       "      <td>NaN</td>\n",
       "      <td>NaN</td>\n",
       "      <td>NaN</td>\n",
       "      <td>NaN</td>\n",
       "      <td>NaN</td>\n",
       "      <td>NaN</td>\n",
       "      <td>NaN</td>\n",
       "      <td>NaN</td>\n",
       "      <td>NaT</td>\n",
       "    </tr>\n",
       "    <tr>\n",
       "      <th>3</th>\n",
       "      <td>52249099</td>\n",
       "      <td>ORTIZ CASTAÑO ZULMA LILIANA</td>\n",
       "      <td>3132332229</td>\n",
       "      <td>CALLE 68 NO 80G 17</td>\n",
       "      <td>5704989</td>\n",
       "      <td>BOGOTA D.C.</td>\n",
       "      <td>BOGOTA</td>\n",
       "      <td>32</td>\n",
       "      <td>CARGA O MIXTO</td>\n",
       "      <td>CHEVROLET</td>\n",
       "      <td>...</td>\n",
       "      <td>NaN</td>\n",
       "      <td>NaN</td>\n",
       "      <td>NaN</td>\n",
       "      <td>NaN</td>\n",
       "      <td>NaN</td>\n",
       "      <td>NaN</td>\n",
       "      <td>NaN</td>\n",
       "      <td>NaN</td>\n",
       "      <td>NaN</td>\n",
       "      <td>NaT</td>\n",
       "    </tr>\n",
       "    <tr>\n",
       "      <th>4</th>\n",
       "      <td>19323186</td>\n",
       "      <td>DIAZ  JIMENEZ  FRANCISCO</td>\n",
       "      <td>3132333095</td>\n",
       "      <td>CLL 164 N 36 14</td>\n",
       "      <td>6726672</td>\n",
       "      <td>BOGOTA D.C.</td>\n",
       "      <td>BOGOTA</td>\n",
       "      <td>31</td>\n",
       "      <td>CARGA O MIXTO</td>\n",
       "      <td>NISSAN</td>\n",
       "      <td>...</td>\n",
       "      <td>NaN</td>\n",
       "      <td>NaN</td>\n",
       "      <td>NaN</td>\n",
       "      <td>NaN</td>\n",
       "      <td>NaN</td>\n",
       "      <td>NaN</td>\n",
       "      <td>NaN</td>\n",
       "      <td>NaN</td>\n",
       "      <td>NaN</td>\n",
       "      <td>NaT</td>\n",
       "    </tr>\n",
       "  </tbody>\n",
       "</table>\n",
       "<p>5 rows × 16384 columns</p>\n",
       "</div>"
      ],
      "text/plain": [
       "   Id. Asegurado             Nombre Asegurado     celular  \\\n",
       "0        2991022      ROMERO AGUDELO HUMBERTO  3132265889   \n",
       "1       79455416         SUAREZ RINCON HERMES  3132302380   \n",
       "2       74370657  PACHON ARIZA  FABIO ALBERTO  3132328940   \n",
       "3       52249099  ORTIZ CASTAÑO ZULMA LILIANA  3132332229   \n",
       "4       19323186     DIAZ  JIMENEZ  FRANCISCO  3132333095   \n",
       "\n",
       "             Dirección  Teléfono       Ciudad Departamento  Tar.  \\\n",
       "0      AV 15 N0 119 99   2131477  BOGOTA D.C.       BOGOTA    23   \n",
       "1  CALLE 46 S N 20  09   2791523  BOGOTA D.C.       BOGOTA    71   \n",
       "2   CALLE 25 C N 34 22   2440895  BOGOTA D.C.       BOGOTA    52   \n",
       "3   CALLE 68 NO 80G 17   5704989  BOGOTA D.C.       BOGOTA    32   \n",
       "4     CLL 164 N 36 14    6726672  BOGOTA D.C.       BOGOTA    31   \n",
       "\n",
       "                Tarifa       Marca  ... Unnamed: 16374  Unnamed: 16375  \\\n",
       "0  CAMPEROS/CAMIONETAS  JEEP WILLY  ...            NaN             NaN   \n",
       "1    AUTOS DE NEGOCIOS     HYUNDAI  ...            NaN             NaN   \n",
       "2     AUTOS FAMILIARES     RENAULT  ...            NaN             NaN   \n",
       "3        CARGA O MIXTO   CHEVROLET  ...            NaN             NaN   \n",
       "4        CARGA O MIXTO      NISSAN  ...            NaN             NaN   \n",
       "\n",
       "  Unnamed: 16376  Unnamed: 16377  Unnamed: 16378 Unnamed: 16379  \\\n",
       "0            NaN             NaN             NaN            NaN   \n",
       "1            NaN             NaN             NaN            NaN   \n",
       "2            NaN             NaN             NaN            NaN   \n",
       "3            NaN             NaN             NaN            NaN   \n",
       "4            NaN             NaN             NaN            NaN   \n",
       "\n",
       "   Unnamed: 16380  Unnamed: 16381  Unnamed: 16382 Unnamed: 16383  \n",
       "0             NaN             NaN             NaN            NaT  \n",
       "1             NaN             NaN             NaN            NaT  \n",
       "2             NaN             NaN             NaN            NaT  \n",
       "3             NaN             NaN             NaN            NaT  \n",
       "4             NaN             NaN             NaN            NaT  \n",
       "\n",
       "[5 rows x 16384 columns]"
      ]
     },
     "execution_count": 3,
     "metadata": {},
     "output_type": "execute_result"
    }
   ],
   "source": [
    "df.head()"
   ]
  },
  {
   "cell_type": "code",
   "execution_count": 4,
   "metadata": {},
   "outputs": [
    {
     "data": {
      "text/plain": [
       "(4679, 16384)"
      ]
     },
     "execution_count": 4,
     "metadata": {},
     "output_type": "execute_result"
    }
   ],
   "source": [
    "df.shape"
   ]
  },
  {
   "cell_type": "code",
   "execution_count": 5,
   "metadata": {},
   "outputs": [
    {
     "data": {
      "text/plain": [
       "Index(['Id. Asegurado', 'Nombre Asegurado', 'celular', 'Dirección', 'Teléfono',\n",
       "       'Ciudad', 'Departamento', 'Tar.', 'Tarifa', 'Marca',\n",
       "       ...\n",
       "       'Unnamed: 16374', 'Unnamed: 16375', 'Unnamed: 16376', 'Unnamed: 16377',\n",
       "       'Unnamed: 16378', 'Unnamed: 16379', 'Unnamed: 16380', 'Unnamed: 16381',\n",
       "       'Unnamed: 16382', 'Unnamed: 16383'],\n",
       "      dtype='object', length=16384)"
      ]
     },
     "execution_count": 5,
     "metadata": {},
     "output_type": "execute_result"
    }
   ],
   "source": [
    "df.columns\n"
   ]
  },
  {
   "cell_type": "code",
   "execution_count": 6,
   "metadata": {},
   "outputs": [
    {
     "data": {
      "text/plain": [
       "Id. Asegurado          0\n",
       "Nombre Asegurado       0\n",
       "celular                0\n",
       "Dirección              0\n",
       "Teléfono               0\n",
       "                    ... \n",
       "Unnamed: 16379      4679\n",
       "Unnamed: 16380      4679\n",
       "Unnamed: 16381      4679\n",
       "Unnamed: 16382      4679\n",
       "Unnamed: 16383      4676\n",
       "Length: 16384, dtype: int64"
      ]
     },
     "execution_count": 6,
     "metadata": {},
     "output_type": "execute_result"
    }
   ],
   "source": [
    "df.isna().sum()"
   ]
  },
  {
   "cell_type": "code",
   "execution_count": 7,
   "metadata": {},
   "outputs": [
    {
     "data": {
      "text/plain": [
       "<Axes: >"
      ]
     },
     "execution_count": 7,
     "metadata": {},
     "output_type": "execute_result"
    },
    {
     "data": {
      "image/png": "[encoded data removed]",
      "text/plain": [
       "<Figure size 640x480 with 1 Axes>"
      ]
     },
     "metadata": {},
     "output_type": "display_data"
    }
   ],
   "source": [
    "sns.heatmap(df.isnull(), cbar=False) # nulos"
   ]
  },
  {
   "cell_type": "code",
   "execution_count": 27,
   "metadata": {},
   "outputs": [],
   "source": [
    "import pandas as pd\n",
    "\n",
    "# Supongamos que tienes un DataFrame llamado df\n",
    "\n",
    "# Eliminar columnas nulas\n",
    "df_sin_nulos = df.dropna(axis=1)\n",
    "\n",
    "# El argumento axis=1 indica que se eliminarán las columnas que tienen al menos un valor nulo.\n",
    "\n",
    "# Si quieres eliminar solo las columnas que están completamente llenas de valores nulos, puedes usar el parámetro 'how':\n",
    "df_sin_nulos = df.dropna(axis=1, how='all')"
   ]
  },
  {
   "cell_type": "code",
   "execution_count": 28,
   "metadata": {},
   "outputs": [
    {
     "data": {
      "text/plain": [
       "(4679, 16374)"
      ]
     },
     "execution_count": 28,
     "metadata": {},
     "output_type": "execute_result"
    }
   ],
   "source": [
    "df.shape"
   ]
  },
  {
   "cell_type": "code",
   "execution_count": 29,
   "metadata": {},
   "outputs": [],
   "source": [
    "df_sin_nulos = df.dropna(axis=1, how='all')"
   ]
  },
  {
   "cell_type": "code",
   "execution_count": 30,
   "metadata": {},
   "outputs": [
    {
     "data": {
      "text/plain": [
       "(4679, 16374)"
      ]
     },
     "execution_count": 30,
     "metadata": {},
     "output_type": "execute_result"
    }
   ],
   "source": [
    "df.shape"
   ]
  },
  {
   "cell_type": "code",
   "execution_count": 31,
   "metadata": {},
   "outputs": [
    {
     "data": {
      "text/plain": [
       "<Axes: >"
      ]
     },
     "execution_count": 31,
     "metadata": {},
     "output_type": "execute_result"
    },
    {
     "data": {
      "image/png": "[encoded data removed]",
      "text/plain": [
       "<Figure size 640x480 with 1 Axes>"
      ]
     },
     "metadata": {},
     "output_type": "display_data"
    }
   ],
   "source": [
    "sns.heatmap(df.isnull(), cbar=False) # nulos"
   ]
  },
  {
   "cell_type": "code",
   "execution_count": 32,
   "metadata": {},
   "outputs": [],
   "source": [
    "import pandas as pd\n",
    "\n",
    "# Assuming df is your DataFrame\n",
    "df = df.dropna(how='all', axis=1)"
   ]
  },
  {
   "cell_type": "code",
   "execution_count": 33,
   "metadata": {},
   "outputs": [],
   "source": [
    "import pandas as pd\n",
    "\n",
    "# Assuming df is your DataFrame\n",
    "df = df.dropna(how='all', axis=1)"
   ]
  },
  {
   "cell_type": "code",
   "execution_count": 34,
   "metadata": {},
   "outputs": [
    {
     "data": {
      "text/plain": [
       "(4679, 26)"
      ]
     },
     "execution_count": 34,
     "metadata": {},
     "output_type": "execute_result"
    }
   ],
   "source": [
    "df.shape"
   ]
  },
  {
   "cell_type": "code",
   "execution_count": 35,
   "metadata": {},
   "outputs": [
    {
     "data": {
      "text/html": [
       "<div>\n",
       "<style scoped>\n",
       "    .dataframe tbody tr th:only-of-type {\n",
       "        vertical-align: middle;\n",
       "    }\n",
       "\n",
       "    .dataframe tbody tr th {\n",
       "        vertical-align: top;\n",
       "    }\n",
       "\n",
       "    .dataframe thead th {\n",
       "        text-align: right;\n",
       "    }\n",
       "</style>\n",
       "<table border=\"1\" class=\"dataframe\">\n",
       "  <thead>\n",
       "    <tr style=\"text-align: right;\">\n",
       "      <th></th>\n",
       "      <th>Id. Asegurado</th>\n",
       "      <th>Nombre Asegurado</th>\n",
       "      <th>celular</th>\n",
       "      <th>Dirección</th>\n",
       "      <th>Teléfono</th>\n",
       "      <th>Ciudad</th>\n",
       "      <th>Departamento</th>\n",
       "      <th>Tar.</th>\n",
       "      <th>Tarifa</th>\n",
       "      <th>Marca</th>\n",
       "      <th>...</th>\n",
       "      <th>Ton.</th>\n",
       "      <th>Pas.</th>\n",
       "      <th>Motor</th>\n",
       "      <th>Chasis</th>\n",
       "      <th>Fec. Fin</th>\n",
       "      <th>Id. P</th>\n",
       "      <th>fecha de vencimiento</th>\n",
       "      <th>Unnamed: 24</th>\n",
       "      <th>Unnamed: 25</th>\n",
       "      <th>Unnamed: 26</th>\n",
       "    </tr>\n",
       "  </thead>\n",
       "  <tbody>\n",
       "    <tr>\n",
       "      <th>0</th>\n",
       "      <td>2991022</td>\n",
       "      <td>ROMERO AGUDELO HUMBERTO</td>\n",
       "      <td>3132265889</td>\n",
       "      <td>AV 15 N0 119 99</td>\n",
       "      <td>2131477</td>\n",
       "      <td>BOGOTA D.C.</td>\n",
       "      <td>BOGOTA</td>\n",
       "      <td>23</td>\n",
       "      <td>CAMPEROS/CAMIONETAS</td>\n",
       "      <td>JEEP WILLY</td>\n",
       "      <td>...</td>\n",
       "      <td>0.0</td>\n",
       "      <td>5</td>\n",
       "      <td>8M31806031026</td>\n",
       "      <td>1J4GZ78Y8TC376949</td>\n",
       "      <td>2011-07-11</td>\n",
       "      <td>9</td>\n",
       "      <td>NaT</td>\n",
       "      <td>NaN</td>\n",
       "      <td>NaN</td>\n",
       "      <td>NaN</td>\n",
       "    </tr>\n",
       "    <tr>\n",
       "      <th>1</th>\n",
       "      <td>79455416</td>\n",
       "      <td>SUAREZ RINCON HERMES</td>\n",
       "      <td>3132302380</td>\n",
       "      <td>CALLE 46 S N 20  09</td>\n",
       "      <td>2791523</td>\n",
       "      <td>BOGOTA D.C.</td>\n",
       "      <td>BOGOTA</td>\n",
       "      <td>71</td>\n",
       "      <td>AUTOS DE NEGOCIOS</td>\n",
       "      <td>HYUNDAI</td>\n",
       "      <td>...</td>\n",
       "      <td>0.0</td>\n",
       "      <td>5</td>\n",
       "      <td>G4HC7M141081</td>\n",
       "      <td>MALAB51GP8M136431</td>\n",
       "      <td>2011-09-01</td>\n",
       "      <td>4</td>\n",
       "      <td>NaT</td>\n",
       "      <td>NaN</td>\n",
       "      <td>NaN</td>\n",
       "      <td>NaN</td>\n",
       "    </tr>\n",
       "    <tr>\n",
       "      <th>2</th>\n",
       "      <td>74370657</td>\n",
       "      <td>PACHON ARIZA  FABIO ALBERTO</td>\n",
       "      <td>3132328940</td>\n",
       "      <td>CALLE 25 C N 34 22</td>\n",
       "      <td>2440895</td>\n",
       "      <td>BOGOTA D.C.</td>\n",
       "      <td>BOGOTA</td>\n",
       "      <td>52</td>\n",
       "      <td>AUTOS FAMILIARES</td>\n",
       "      <td>RENAULT</td>\n",
       "      <td>...</td>\n",
       "      <td>0.0</td>\n",
       "      <td>5</td>\n",
       "      <td>F710UC73802</td>\n",
       "      <td>9FBLSRAHB8M012802</td>\n",
       "      <td>2011-04-16</td>\n",
       "      <td>4</td>\n",
       "      <td>NaT</td>\n",
       "      <td>NaN</td>\n",
       "      <td>NaN</td>\n",
       "      <td>NaN</td>\n",
       "    </tr>\n",
       "    <tr>\n",
       "      <th>3</th>\n",
       "      <td>52249099</td>\n",
       "      <td>ORTIZ CASTAÑO ZULMA LILIANA</td>\n",
       "      <td>3132332229</td>\n",
       "      <td>CALLE 68 NO 80G 17</td>\n",
       "      <td>5704989</td>\n",
       "      <td>BOGOTA D.C.</td>\n",
       "      <td>BOGOTA</td>\n",
       "      <td>32</td>\n",
       "      <td>CARGA O MIXTO</td>\n",
       "      <td>CHEVROLET</td>\n",
       "      <td>...</td>\n",
       "      <td>5.0</td>\n",
       "      <td>2</td>\n",
       "      <td>944113</td>\n",
       "      <td>9DGNPR71L3B991305</td>\n",
       "      <td>2011-02-23</td>\n",
       "      <td>4</td>\n",
       "      <td>NaT</td>\n",
       "      <td>NaN</td>\n",
       "      <td>NaN</td>\n",
       "      <td>NaN</td>\n",
       "    </tr>\n",
       "    <tr>\n",
       "      <th>4</th>\n",
       "      <td>19323186</td>\n",
       "      <td>DIAZ  JIMENEZ  FRANCISCO</td>\n",
       "      <td>3132333095</td>\n",
       "      <td>CLL 164 N 36 14</td>\n",
       "      <td>6726672</td>\n",
       "      <td>BOGOTA D.C.</td>\n",
       "      <td>BOGOTA</td>\n",
       "      <td>31</td>\n",
       "      <td>CARGA O MIXTO</td>\n",
       "      <td>NISSAN</td>\n",
       "      <td>...</td>\n",
       "      <td>1.0</td>\n",
       "      <td>3</td>\n",
       "      <td>KA24150056R</td>\n",
       "      <td>6CSKD21000418</td>\n",
       "      <td>2011-02-14</td>\n",
       "      <td>4</td>\n",
       "      <td>2016-09-01</td>\n",
       "      <td>NaN</td>\n",
       "      <td>NaN</td>\n",
       "      <td>NaN</td>\n",
       "    </tr>\n",
       "  </tbody>\n",
       "</table>\n",
       "<p>5 rows × 26 columns</p>\n",
       "</div>"
      ],
      "text/plain": [
       "   Id. Asegurado             Nombre Asegurado     celular  \\\n",
       "0        2991022      ROMERO AGUDELO HUMBERTO  3132265889   \n",
       "1       79455416         SUAREZ RINCON HERMES  3132302380   \n",
       "2       74370657  PACHON ARIZA  FABIO ALBERTO  3132328940   \n",
       "3       52249099  ORTIZ CASTAÑO ZULMA LILIANA  3132332229   \n",
       "4       19323186     DIAZ  JIMENEZ  FRANCISCO  3132333095   \n",
       "\n",
       "             Dirección  Teléfono       Ciudad Departamento  Tar.  \\\n",
       "0      AV 15 N0 119 99   2131477  BOGOTA D.C.       BOGOTA    23   \n",
       "1  CALLE 46 S N 20  09   2791523  BOGOTA D.C.       BOGOTA    71   \n",
       "2   CALLE 25 C N 34 22   2440895  BOGOTA D.C.       BOGOTA    52   \n",
       "3   CALLE 68 NO 80G 17   5704989  BOGOTA D.C.       BOGOTA    32   \n",
       "4     CLL 164 N 36 14    6726672  BOGOTA D.C.       BOGOTA    31   \n",
       "\n",
       "                Tarifa       Marca  ... Ton.  Pas.          Motor  \\\n",
       "0  CAMPEROS/CAMIONETAS  JEEP WILLY  ...  0.0     5  8M31806031026   \n",
       "1    AUTOS DE NEGOCIOS     HYUNDAI  ...  0.0     5   G4HC7M141081   \n",
       "2     AUTOS FAMILIARES     RENAULT  ...  0.0     5    F710UC73802   \n",
       "3        CARGA O MIXTO   CHEVROLET  ...  5.0     2         944113   \n",
       "4        CARGA O MIXTO      NISSAN  ...  1.0     3    KA24150056R   \n",
       "\n",
       "              Chasis   Fec. Fin  Id. P  fecha de vencimiento  Unnamed: 24  \\\n",
       "0  1J4GZ78Y8TC376949 2011-07-11      9                   NaT          NaN   \n",
       "1  MALAB51GP8M136431 2011-09-01      4                   NaT          NaN   \n",
       "2  9FBLSRAHB8M012802 2011-04-16      4                   NaT          NaN   \n",
       "3  9DGNPR71L3B991305 2011-02-23      4                   NaT          NaN   \n",
       "4      6CSKD21000418 2011-02-14      4            2016-09-01          NaN   \n",
       "\n",
       "  Unnamed: 25 Unnamed: 26  \n",
       "0         NaN         NaN  \n",
       "1         NaN         NaN  \n",
       "2         NaN         NaN  \n",
       "3         NaN         NaN  \n",
       "4         NaN         NaN  \n",
       "\n",
       "[5 rows x 26 columns]"
      ]
     },
     "execution_count": 35,
     "metadata": {},
     "output_type": "execute_result"
    }
   ],
   "source": [
    "df.head()"
   ]
  },
  {
   "cell_type": "code",
   "execution_count": 36,
   "metadata": {},
   "outputs": [
    {
     "data": {
      "text/plain": [
       "Index(['Id. Asegurado', 'Nombre Asegurado', 'celular', 'Dirección', 'Teléfono',\n",
       "       'Ciudad', 'Departamento', 'Tar.', 'Tarifa', 'Marca', 'Uso', 'Mod.',\n",
       "       'Placa', 'Serv.', 'Servicio', 'c.c.', 'Ton.', 'Pas.', 'Motor', 'Chasis',\n",
       "       'Fec. Fin', 'Id. P', 'fecha de vencimiento', 'Unnamed: 24',\n",
       "       'Unnamed: 25', 'Unnamed: 26'],\n",
       "      dtype='object')"
      ]
     },
     "execution_count": 36,
     "metadata": {},
     "output_type": "execute_result"
    }
   ],
   "source": [
    "df.columns"
   ]
  },
  {
   "cell_type": "code",
   "execution_count": 37,
   "metadata": {},
   "outputs": [],
   "source": [
    "import pandas as pd\n",
    "\n",
    "# Suponiendo que tu DataFrame se llama df\n",
    "# Utiliza tu nombre de DataFrame en lugar de \"df\"\n",
    "\n",
    "df = df.drop(['Unnamed: 24', 'Unnamed: 25', 'Unnamed: 26'], axis=1)\n"
   ]
  },
  {
   "cell_type": "code",
   "execution_count": 38,
   "metadata": {},
   "outputs": [
    {
     "data": {
      "text/plain": [
       "(4679, 23)"
      ]
     },
     "execution_count": 38,
     "metadata": {},
     "output_type": "execute_result"
    }
   ],
   "source": [
    "df.shape"
   ]
  },
  {
   "cell_type": "code",
   "execution_count": 39,
   "metadata": {},
   "outputs": [
    {
     "data": {
      "text/plain": [
       "Index(['Id. Asegurado', 'Nombre Asegurado', 'celular', 'Dirección', 'Teléfono',\n",
       "       'Ciudad', 'Departamento', 'Tar.', 'Tarifa', 'Marca', 'Uso', 'Mod.',\n",
       "       'Placa', 'Serv.', 'Servicio', 'c.c.', 'Ton.', 'Pas.', 'Motor', 'Chasis',\n",
       "       'Fec. Fin', 'Id. P', 'fecha de vencimiento'],\n",
       "      dtype='object')"
      ]
     },
     "execution_count": 39,
     "metadata": {},
     "output_type": "execute_result"
    }
   ],
   "source": [
    "df.columns"
   ]
  },
  {
   "cell_type": "markdown",
   "metadata": {},
   "source": [
    "#----------------------separacion por base---------------------------------------------------------------"
   ]
  },
  {
   "cell_type": "code",
   "execution_count": null,
   "metadata": {},
   "outputs": [],
   "source": [
    "import pandas as pd\n",
    "\n",
    "# Asegúrate de que el nombre de archivo sea adecuado para tu caso\n",
    "\n",
    "df.to_csv('cartera_cliente_1.csv', index=False)\n"
   ]
  },
  {
   "cell_type": "markdown",
   "metadata": {},
   "source": [
    "#  import pandas as pd\n",
    "\n",
    "#Suponiendo que tu DataFrame se llama df\n",
    "\n",
    " Calcula el número de filas a eliminar (el 85% de la longitud total del DataFrame)\n",
    "filas_a_eliminar = int(0.85 * len(df))\n",
    "\n",
    " Elimina las filas utilizando el método sample() para seleccionar aleatoriamente las filas y luego eliminarlas\n",
    "df = df.drop(df.sample(n=filas_a_eliminar).index)"
   ]
  },
  {
   "cell_type": "markdown",
   "metadata": {},
   "source": [
    "# graficos con librerias"
   ]
  },
  {
   "cell_type": "code",
   "execution_count": null,
   "metadata": {},
   "outputs": [],
   "source": [
    "import plotly.express as px\n",
    "import pandas as pd\n",
    "\n",
    "# Suponiendo que tienes un DataFrame llamado df con las columnas 'fecha de vencimiento - Año' y 'CHOQUE'\n",
    "# Puedes cargar tus datos desde un archivo o crear un DataFrame ficticio para este ejemplo\n",
    "df = pd.DataFrame(df)\n",
    "\n",
    "# Crea el gráfico de líneas con Plotly\n",
    "fig = px.histogram(df, x= 'Marca', y= 'CHOQUE', title='Histograma: indice de siniestralidad por marca')\n",
    "fig.update_layout(xaxis_title='Marca ', yaxis_title='Siniestros',)\n",
    "\n",
    "# Muestra el gráfico\n",
    "fig.show()\n"
   ]
  }
 ],
 "metadata": {
  "kernelspec": {
   "display_name": "entorno",
   "language": "python",
   "name": "python3"
  },
  "language_info": {
   "codemirror_mode": {
    "name": "ipython",
    "version": 3
   },
   "file_extension": ".py",
   "mimetype": "text/x-python",
   "name": "python",
   "nbconvert_exporter": "python",
   "pygments_lexer": "ipython3",
   "version": "3.10.10"
  }
 },
 "nbformat": 4,
 "nbformat_minor": 2
}
